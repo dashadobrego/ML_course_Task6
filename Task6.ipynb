{
 "cells": [
  {
   "cell_type": "markdown",
   "metadata": {},
   "source": [
    "# The Bankloans dataset"
   ]
  },
  {
   "cell_type": "markdown",
   "metadata": {},
   "source": [
    "**Students**: Daria Dobrego,  Irina Makarkina, Natalya Vlasova, Danil Markov"
   ]
  },
  {
   "cell_type": "markdown",
   "metadata": {},
   "source": [
    "**Setup**: In this IGA you are asked to work with the *bankloans.xlsx* file (see the case-study discussion from the lecture). Each group works with its own indicator of **default on loans**. \n",
    "\n",
    "+ Group 3: othdebt\n",
    "\n",
    "Split the values of your indicator into **two** groups: one with **default = 0** and the other with **default = 1**.\n",
    "Use the **5% level of significance** for statistical inference.\n"
   ]
  },
  {
   "cell_type": "code",
   "execution_count": 20,
   "metadata": {},
   "outputs": [],
   "source": [
    "# [load the necessary libraries here]\n",
    "# importing necessary packages\n",
    "import pandas as pd\n",
    "import numpy as np\n",
    "import matplotlib.pyplot as plt\n",
    "import scipy.stats as stats\n",
    "import os\n",
    "\n",
    "from statsmodels.graphics.gofplots import qqplot"
   ]
  },
  {
   "cell_type": "code",
   "execution_count": 25,
   "metadata": {},
   "outputs": [
    {
     "data": {
      "text/html": [
       "<div>\n",
       "<style scoped>\n",
       "    .dataframe tbody tr th:only-of-type {\n",
       "        vertical-align: middle;\n",
       "    }\n",
       "\n",
       "    .dataframe tbody tr th {\n",
       "        vertical-align: top;\n",
       "    }\n",
       "\n",
       "    .dataframe thead th {\n",
       "        text-align: right;\n",
       "    }\n",
       "</style>\n",
       "<table border=\"1\" class=\"dataframe\">\n",
       "  <thead>\n",
       "    <tr style=\"text-align: right;\">\n",
       "      <th></th>\n",
       "      <th>default</th>\n",
       "      <th>othdebt</th>\n",
       "    </tr>\n",
       "  </thead>\n",
       "  <tbody>\n",
       "    <tr>\n",
       "      <th>0</th>\n",
       "      <td>1</td>\n",
       "      <td>5.01</td>\n",
       "    </tr>\n",
       "    <tr>\n",
       "      <th>1</th>\n",
       "      <td>0</td>\n",
       "      <td>4.00</td>\n",
       "    </tr>\n",
       "    <tr>\n",
       "      <th>2</th>\n",
       "      <td>0</td>\n",
       "      <td>2.17</td>\n",
       "    </tr>\n",
       "    <tr>\n",
       "      <th>3</th>\n",
       "      <td>0</td>\n",
       "      <td>0.82</td>\n",
       "    </tr>\n",
       "    <tr>\n",
       "      <th>4</th>\n",
       "      <td>1</td>\n",
       "      <td>3.06</td>\n",
       "    </tr>\n",
       "  </tbody>\n",
       "</table>\n",
       "</div>"
      ],
      "text/plain": [
       "   default  othdebt\n",
       "0        1     5.01\n",
       "1        0     4.00\n",
       "2        0     2.17\n",
       "3        0     0.82\n",
       "4        1     3.06"
      ]
     },
     "execution_count": 25,
     "metadata": {},
     "output_type": "execute_result"
    }
   ],
   "source": [
    "# [import the data here]\n",
    "df_bankloans = pd.read_excel('bankloans.xlsx', index_col=None, na_values=['NA']) #read dataset \n",
    "bankloans = pd.DataFrame(df_bankloans, columns = ['default', 'othdebt']) #create dataset consisting of two needed columns\n",
    "# create separate variables\n",
    "default0 = pd.Series(bankloans.query('default==0')['othdebt'])\n",
    "default1 = pd.Series(bankloans.query('default==1')['othdebt'])\n",
    "\n",
    "# look at first several rows in the data-frame\n",
    "bankloans.head(n=5)"
   ]
  },
  {
   "cell_type": "markdown",
   "metadata": {},
   "source": [
    "### Task 1.\n",
    "\n",
    "In the chunk below, give a brief economic explanation (no more than 100 words) on the expected influence of your indicator on the **default** variable."
   ]
  },
  {
   "cell_type": "markdown",
   "metadata": {},
   "source": [
    "We expect that existence of other debts implies that the chance of default appearance is increasing, therefore, the chance of obtaining the loan is decreasing since if a person have many loans it becomes more difficult for him or her to pay debts. We expect distribution to be left-skewed since while the amount of debts is increasing, the chance of default is increasing as well."
   ]
  },
  {
   "cell_type": "markdown",
   "metadata": {},
   "source": [
    "### Task 2. \n",
    "+ Construct a histogram for your indicator on the **whole** sample\n",
    "+ To study its shape, run the appropriate skewness and normality tests.\n",
    "+ Make specific conclusions."
   ]
  },
  {
   "cell_type": "code",
   "execution_count": 41,
   "metadata": {
    "scrolled": true
   },
   "outputs": [
    {
     "data": {
      "image/png": "[encoded data removed]",
      "text/plain": [
       "<Figure size 432x288 with 1 Axes>"
      ]
     },
     "metadata": {
      "needs_background": "light"
     },
     "output_type": "display_data"
    }
   ],
   "source": [
    "# [give your commands here]\n",
    "othdebt = pd.DataFrame(bankloans, columns = ['othdebt']) #create subsample consisting of variable \"other debt\"\n",
    "othdebt.plot.hist(bankloans, grid=True, bins=100, rwidth=0.9, color='blue')\n",
    "\n",
    "plt.title('Histogram for ' + \"Otherdebt\")\n",
    "plt.xlabel('Other debts in thousands')\n",
    "plt.ylabel('Frequencies')\n",
    "plt.show()"
   ]
  },
  {
   "cell_type": "code",
   "execution_count": 50,
   "metadata": {},
   "outputs": [
    {
     "data": {
      "text/plain": [
       "(700, 1)"
      ]
     },
     "execution_count": 50,
     "metadata": {},
     "output_type": "execute_result"
    }
   ],
   "source": [
    "othdebt.shape"
   ]
  },
  {
   "cell_type": "code",
   "execution_count": 55,
   "metadata": {},
   "outputs": [
    {
     "name": "stdout",
     "output_type": "stream",
     "text": [
      "H0: Sk =  0\n",
      "Skewness test statistic =  [17.237]\n",
      "Skewness p-value =  [0.]\n"
     ]
    }
   ],
   "source": [
    "# a best way to do the same is to make a simple function\n",
    "coefSK, pvSK = stats.skewtest(othdebt)\n",
    "    \n",
    "print(\"H0: Sk =  0\")\n",
    "print(\"Skewness test statistic = \", np.round(coefSK,3))\n",
    "print(\"Skewness p-value = \", np.round(pvSK,5))\n"
   ]
  },
  {
   "cell_type": "markdown",
   "metadata": {},
   "source": [
    "P-value is less than 0,05, thus, we reject the null hypothesis.\n",
    "Conclusion: distribution is not symmetric. Right-skewness can be observed. Most people in the dataset have loans of small value."
   ]
  },
  {
   "cell_type": "code",
   "execution_count": 56,
   "metadata": {},
   "outputs": [
    {
     "data": {
      "image/png": "[encoded data removed]",
      "text/plain": [
       "<Figure size 432x288 with 1 Axes>"
      ]
     },
     "execution_count": 56,
     "metadata": {},
     "output_type": "execute_result"
    },
    {
     "data": {
      "image/png": "[encoded data removed]",
      "text/plain": [
       "<Figure size 432x288 with 1 Axes>"
      ]
     },
     "metadata": {
      "needs_background": "light"
     },
     "output_type": "display_data"
    }
   ],
   "source": [
    "# constructing a Q-Q plot\n",
    "qqplot(othdebt, line='s')"
   ]
  },
  {
   "cell_type": "code",
   "execution_count": 94,
   "metadata": {},
   "outputs": [],
   "source": [
    "def myNpVals(x):\n",
    "    NpVals = pd.Series()\n",
    "\n",
    "    _, NpVals['DAgostino'] = stats.normaltest(x)\n",
    "    _, NpVals['Shapiro-Wilk'] = stats.shapiro(x)\n",
    "    \n",
    "    print('p-values for {0} data points:'.format(len(x)))\n",
    "    print(NpVals)"
   ]
  },
  {
   "cell_type": "code",
   "execution_count": 95,
   "metadata": {},
   "outputs": [
    {
     "name": "stdout",
     "output_type": "stream",
     "text": [
      "p-values for 700 data points:\n",
      "DAgostino       [8.617734237997158e-95]\n",
      "Shapiro-Wilk                2.05702e-32\n",
      "dtype: object\n"
     ]
    }
   ],
   "source": [
    "myNpVals(othdebt)"
   ]
  },
  {
   "cell_type": "markdown",
   "metadata": {},
   "source": [
    "P-values of both tests are less than 0,05. Thus, we reject the null hypothesis. \n",
    "Conclusion: Distribution is not normal. "
   ]
  },
  {
   "cell_type": "markdown",
   "metadata": {},
   "source": [
    "### Task 3.\n",
    "\n",
    "+ By running the appropriate statistical test, compare the mean values of the **two** groups.\n",
    "+ Draw conclusions on *potential* usefulness of your indicator for explaining the probability of default on a loan. "
   ]
  },
  {
   "cell_type": "code",
   "execution_count": 77,
   "metadata": {
    "scrolled": true
   },
   "outputs": [
    {
     "name": "stdout",
     "output_type": "stream",
     "text": [
      "Two-sample t-statistic =  -3.894\n",
      "Two-sample p-value =  0.0\n"
     ]
    }
   ],
   "source": [
    "# two-sample means comparison for default = 0 or 1 - we have two groups\n",
    "t_twodefault, pVal_twodefault = stats.ttest_ind(default0, default1)\n",
    "\n",
    "print(\"Two-sample t-statistic = \", round(t_twodefault,3))\n",
    "print(\"Two-sample p-value = \", round(pVal_twodefault,3))"
   ]
  },
  {
   "cell_type": "code",
   "execution_count": 98,
   "metadata": {},
   "outputs": [],
   "source": [
    "#p-value is less that 0,05. Thus, we reject the null hypothesis."
   ]
  },
  {
   "cell_type": "code",
   "execution_count": 101,
   "metadata": {},
   "outputs": [
    {
     "data": {
      "text/plain": [
       "count    517.000000\n",
       "mean       2.773211\n",
       "std        2.813982\n",
       "min        0.050000\n",
       "25%        0.990000\n",
       "50%        1.880000\n",
       "75%        3.440000\n",
       "max       18.270000\n",
       "Name: othdebt, dtype: float64"
      ]
     },
     "execution_count": 101,
     "metadata": {},
     "output_type": "execute_result"
    }
   ],
   "source": [
    "default0.describe()"
   ]
  },
  {
   "cell_type": "code",
   "execution_count": 102,
   "metadata": {},
   "outputs": [
    {
     "data": {
      "text/plain": [
       "count    183.000000\n",
       "mean       3.863388\n",
       "std        4.263394\n",
       "min        0.160000\n",
       "25%        1.320000\n",
       "50%        2.530000\n",
       "75%        4.650000\n",
       "max       27.030000\n",
       "Name: othdebt, dtype: float64"
      ]
     },
     "execution_count": 102,
     "metadata": {},
     "output_type": "execute_result"
    }
   ],
   "source": [
    "default1.describe()"
   ]
  },
  {
   "cell_type": "markdown",
   "metadata": {},
   "source": [
    "\n",
    "Conclusion: Populations (distributions) have different expected values. "
   ]
  },
  {
   "cell_type": "markdown",
   "metadata": {},
   "source": [
    "Usefullness: the person might have great credit scoring, however, he might already have taken a few loans in the nearest time. Even if the person has good loan history, at the current time he might be a risky client. Our indicator helps to show total loan value he or she has now.\n",
    "Differences in mean values in our samples show that people who experience default on average have higer debts."
   ]
  },
  {
   "cell_type": "code",
   "execution_count": null,
   "metadata": {},
   "outputs": [],
   "source": []
  }
 ],
 "metadata": {
  "kernelspec": {
   "display_name": "Python 3",
   "language": "python",
   "name": "python3"
  },
  "language_info": {
   "codemirror_mode": {
    "name": "ipython",
    "version": 3
   },
   "file_extension": ".py",
   "mimetype": "text/x-python",
   "name": "python",
   "nbconvert_exporter": "python",
   "pygments_lexer": "ipython3",
   "version": "3.7.3"
  },
  "varInspector": {
   "cols": {
    "lenName": 16,
    "lenType": 16,
    "lenVar": 40
   },
   "kernels_config": {
    "python": {
     "delete_cmd_postfix": "",
     "delete_cmd_prefix": "del ",
     "library": "var_list.py",
     "varRefreshCmd": "print(var_dic_list())"
    },
    "r": {
     "delete_cmd_postfix": ") ",
     "delete_cmd_prefix": "rm(",
     "library": "var_list.r",
     "varRefreshCmd": "cat(var_dic_list()) "
    }
   },
   "types_to_exclude": [
    "module",
    "function",
    "builtin_function_or_method",
    "instance",
    "_Feature"
   ],
   "window_display": false
  }
 },
 "nbformat": 4,
 "nbformat_minor": 2
}
